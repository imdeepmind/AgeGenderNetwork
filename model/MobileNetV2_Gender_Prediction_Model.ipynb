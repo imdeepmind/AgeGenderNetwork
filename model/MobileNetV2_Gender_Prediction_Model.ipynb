{
  "nbformat": 4,
  "nbformat_minor": 0,
  "metadata": {
    "colab": {
      "name": "MobileNetV2 Gender Prediction Model",
      "version": "0.3.2",
      "provenance": [],
      "collapsed_sections": [],
      "toc_visible": true
    },
    "kernelspec": {
      "name": "python3",
      "display_name": "Python 3"
    },
    "accelerator": "GPU"
  },
  "cells": [
    {
      "cell_type": "markdown",
      "metadata": {
        "id": "ofjgm0JuEbXG",
        "colab_type": "text"
      },
      "source": [
        "# Gender Prediction using MobileNetV2\n",
        "\n",
        "By Abhishek Chatterjee\n",
        "(abhishekchatterjeejit@gmail.com)\n",
        "\n",
        "**The aim of this project is to make a computer program to detect the gender of a person based on the single image of his/her face. This project is using the MobileNetV2 deep learning CNN architecture to predict it. The dataset that is used to train is a mix of the IMDB WIKI dataset and Selfie Dataset.**"
      ]
    },
    {
      "cell_type": "markdown",
      "metadata": {
        "id": "qC1ItRMZFbSi",
        "colab_type": "text"
      },
      "source": [
        "## Dependencies\n",
        "\n",
        "In the first step, we wil import the dependencies that we need for this project."
      ]
    },
    {
      "cell_type": "code",
      "metadata": {
        "id": "dKmXTPpeCUcy",
        "colab_type": "code",
        "colab": {
          "base_uri": "https://localhost:8080/",
          "height": 33
        },
        "outputId": "dcbea034-b6f3-40cc-e32f-9c9bb3c71290"
      },
      "source": [
        "# Dependencies\n",
        "import pandas as pd\n",
        "import numpy as np\n",
        "import matplotlib.pyplot as plt\n",
        "\n",
        "from keras.preprocessing.image import ImageDataGenerator\n",
        "from keras.models import Sequential\n",
        "from keras.layers import Dense, Flatten\n",
        "from keras.applications import MobileNetV2\n",
        "from keras import optimizers\n",
        "\n",
        "from sklearn.model_selection import train_test_split"
      ],
      "execution_count": 1,
      "outputs": [
        {
          "output_type": "stream",
          "text": [
            "Using TensorFlow backend.\n"
          ],
          "name": "stderr"
        }
      ]
    },
    {
      "cell_type": "markdown",
      "metadata": {
        "id": "Ye-Ptoz3LE3Q",
        "colab_type": "text"
      },
      "source": [
        "## Declaring some constants \n",
        "\n",
        "In the entire model, I will use various constants. I'm declaring those here."
      ]
    },
    {
      "cell_type": "code",
      "metadata": {
        "id": "mbkLmY4jLThv",
        "colab_type": "code",
        "colab": {}
      },
      "source": [
        "RANDOM_STATE = 1969\n",
        "SPLIT_RATIO = 0.2"
      ],
      "execution_count": 0,
      "outputs": []
    },
    {
      "cell_type": "markdown",
      "metadata": {
        "id": "965oWlMrGb5v",
        "colab_type": "text"
      },
      "source": [
        "## Connecting Google Drive\n",
        "\n",
        "As I'm running it on Google Colab, and my dataset is stored into Google Drive, so I need to connect Colab with Google Drive"
      ]
    },
    {
      "cell_type": "code",
      "metadata": {
        "id": "DV9pbw4gGqmE",
        "colab_type": "code",
        "colab": {
          "base_uri": "https://localhost:8080/",
          "height": 118
        },
        "outputId": "c4b3cdf8-e5e3-4492-9a4f-1456f86fe311"
      },
      "source": [
        "from google.colab import drive\n",
        "drive.mount('/content/drive')"
      ],
      "execution_count": 2,
      "outputs": [
        {
          "output_type": "stream",
          "text": [
            "Go to this URL in a browser: https://accounts.google.com/o/oauth2/auth?client_id=947318989803-6bn6qk8qdgf4n4g3pfee6491hc0brc4i.apps.googleusercontent.com&redirect_uri=urn%3Aietf%3Awg%3Aoauth%3A2.0%3Aoob&scope=email%20https%3A%2F%2Fwww.googleapis.com%2Fauth%2Fdocs.test%20https%3A%2F%2Fwww.googleapis.com%2Fauth%2Fdrive%20https%3A%2F%2Fwww.googleapis.com%2Fauth%2Fdrive.photos.readonly%20https%3A%2F%2Fwww.googleapis.com%2Fauth%2Fpeopleapi.readonly&response_type=code\n",
            "\n",
            "Enter your authorization code:\n",
            "··········\n",
            "Mounted at /content/drive\n"
          ],
          "name": "stdout"
        }
      ]
    },
    {
      "cell_type": "markdown",
      "metadata": {
        "id": "btcrbaesHRwq",
        "colab_type": "text"
      },
      "source": [
        "## Unzipping the dataset\n",
        "\n",
        "In Google Drive, the dataset is stored as a zip file. So before using it, I need to unzip it."
      ]
    },
    {
      "cell_type": "code",
      "metadata": {
        "id": "Tee1RLZpHdVd",
        "colab_type": "code",
        "colab": {}
      },
      "source": [
        "!unzip -qq 'drive/My Drive/dataset/imdb+wiki+selfie.zip' -d ./"
      ],
      "execution_count": 0,
      "outputs": []
    },
    {
      "cell_type": "markdown",
      "metadata": {
        "id": "9qUihhGFITe-",
        "colab_type": "text"
      },
      "source": [
        "There are three files in the dataset.\n",
        "\n",
        "\n",
        "*   images/ folder - This folder contains the original images\n",
        "*   gender.csv - This CSV file contains the meta information for the dataset (gender and image name)\n",
        "*   age.csv - This CSV file contains the meta information for the age dataset (not needed here)\n",
        "\n"
      ]
    },
    {
      "cell_type": "markdown",
      "metadata": {
        "id": "ixqmbA_HG3lF",
        "colab_type": "text"
      },
      "source": [
        "## Reading the Dataset\n",
        "\n",
        "In this step, I will read the dataset, stored in CSV format. To read the dataset, I will use the pandas read_csv method.\n",
        "\n",
        "Note: The entire the dataset is already preprocessed and cleaned. Please check the preprocessing code."
      ]
    },
    {
      "cell_type": "code",
      "metadata": {
        "id": "xjuGyea0FKQX",
        "colab_type": "code",
        "colab": {}
      },
      "source": [
        "gender_data = pd.read_csv('./gender.csv')"
      ],
      "execution_count": 0,
      "outputs": []
    },
    {
      "cell_type": "markdown",
      "metadata": {
        "id": "hzwUXA0vJ9vn",
        "colab_type": "text"
      },
      "source": [
        "## Analysing the Dataset\n",
        "\n",
        "In this step, I will perform some basic analysis on the data"
      ]
    },
    {
      "cell_type": "code",
      "metadata": {
        "id": "-ukJmOpvI6Gf",
        "colab_type": "code",
        "colab": {
          "base_uri": "https://localhost:8080/",
          "height": 191
        },
        "outputId": "67c45f31-9593-492d-9f31-1934e123578c"
      },
      "source": [
        "# Priting the first 10 rows of the dataset\n",
        "gender_data.head()"
      ],
      "execution_count": 5,
      "outputs": [
        {
          "output_type": "execute_result",
          "data": {
            "text/html": [
              "<div>\n",
              "<style scoped>\n",
              "    .dataframe tbody tr th:only-of-type {\n",
              "        vertical-align: middle;\n",
              "    }\n",
              "\n",
              "    .dataframe tbody tr th {\n",
              "        vertical-align: top;\n",
              "    }\n",
              "\n",
              "    .dataframe thead th {\n",
              "        text-align: right;\n",
              "    }\n",
              "</style>\n",
              "<table border=\"1\" class=\"dataframe\">\n",
              "  <thead>\n",
              "    <tr style=\"text-align: right;\">\n",
              "      <th></th>\n",
              "      <th>gender</th>\n",
              "      <th>path</th>\n",
              "    </tr>\n",
              "  </thead>\n",
              "  <tbody>\n",
              "    <tr>\n",
              "      <th>0</th>\n",
              "      <td>Male</td>\n",
              "      <td>217452</td>\n",
              "    </tr>\n",
              "    <tr>\n",
              "      <th>1</th>\n",
              "      <td>Male</td>\n",
              "      <td>87590</td>\n",
              "    </tr>\n",
              "    <tr>\n",
              "      <th>2</th>\n",
              "      <td>Female</td>\n",
              "      <td>152842</td>\n",
              "    </tr>\n",
              "    <tr>\n",
              "      <th>3</th>\n",
              "      <td>Female</td>\n",
              "      <td>142937</td>\n",
              "    </tr>\n",
              "    <tr>\n",
              "      <th>4</th>\n",
              "      <td>Female</td>\n",
              "      <td>174618</td>\n",
              "    </tr>\n",
              "  </tbody>\n",
              "</table>\n",
              "</div>"
            ],
            "text/plain": [
              "   gender    path\n",
              "0    Male  217452\n",
              "1    Male   87590\n",
              "2  Female  152842\n",
              "3  Female  142937\n",
              "4  Female  174618"
            ]
          },
          "metadata": {
            "tags": []
          },
          "execution_count": 5
        }
      ]
    },
    {
      "cell_type": "code",
      "metadata": {
        "id": "oA_TpuzVJAF2",
        "colab_type": "code",
        "colab": {
          "base_uri": "https://localhost:8080/",
          "height": 191
        },
        "outputId": "ea2a7a84-5dcc-4ecb-d00d-eb759605cc35"
      },
      "source": [
        "# Printing the last 10 rows of the dataset\n",
        "gender_data.tail()"
      ],
      "execution_count": 6,
      "outputs": [
        {
          "output_type": "execute_result",
          "data": {
            "text/html": [
              "<div>\n",
              "<style scoped>\n",
              "    .dataframe tbody tr th:only-of-type {\n",
              "        vertical-align: middle;\n",
              "    }\n",
              "\n",
              "    .dataframe tbody tr th {\n",
              "        vertical-align: top;\n",
              "    }\n",
              "\n",
              "    .dataframe thead th {\n",
              "        text-align: right;\n",
              "    }\n",
              "</style>\n",
              "<table border=\"1\" class=\"dataframe\">\n",
              "  <thead>\n",
              "    <tr style=\"text-align: right;\">\n",
              "      <th></th>\n",
              "      <th>gender</th>\n",
              "      <th>path</th>\n",
              "    </tr>\n",
              "  </thead>\n",
              "  <tbody>\n",
              "    <tr>\n",
              "      <th>268005</th>\n",
              "      <td>Male</td>\n",
              "      <td>14299</td>\n",
              "    </tr>\n",
              "    <tr>\n",
              "      <th>268006</th>\n",
              "      <td>Male</td>\n",
              "      <td>115428</td>\n",
              "    </tr>\n",
              "    <tr>\n",
              "      <th>268007</th>\n",
              "      <td>Male</td>\n",
              "      <td>110861</td>\n",
              "    </tr>\n",
              "    <tr>\n",
              "      <th>268008</th>\n",
              "      <td>Female</td>\n",
              "      <td>20448</td>\n",
              "    </tr>\n",
              "    <tr>\n",
              "      <th>268009</th>\n",
              "      <td>Male</td>\n",
              "      <td>128117</td>\n",
              "    </tr>\n",
              "  </tbody>\n",
              "</table>\n",
              "</div>"
            ],
            "text/plain": [
              "        gender    path\n",
              "268005    Male   14299\n",
              "268006    Male  115428\n",
              "268007    Male  110861\n",
              "268008  Female   20448\n",
              "268009    Male  128117"
            ]
          },
          "metadata": {
            "tags": []
          },
          "execution_count": 6
        }
      ]
    },
    {
      "cell_type": "code",
      "metadata": {
        "id": "L5BZ-ap1JFNi",
        "colab_type": "code",
        "colab": {
          "base_uri": "https://localhost:8080/",
          "height": 33
        },
        "outputId": "954207df-3fa1-4cc1-ac95-cddbf5fb2ea6"
      },
      "source": [
        "# Listing the column names\n",
        "print(gender_data.columns)"
      ],
      "execution_count": 8,
      "outputs": [
        {
          "output_type": "stream",
          "text": [
            "Index(['gender', 'path'], dtype='object')\n"
          ],
          "name": "stdout"
        }
      ]
    },
    {
      "cell_type": "markdown",
      "metadata": {
        "id": "G_nMitPQJZzv",
        "colab_type": "text"
      },
      "source": [
        "The column gender contains the gender label as Male and Female. And the column path contains the unique id of the images."
      ]
    },
    {
      "cell_type": "code",
      "metadata": {
        "id": "t6ypSuGDJMsz",
        "colab_type": "code",
        "colab": {
          "base_uri": "https://localhost:8080/",
          "height": 33
        },
        "outputId": "c014ad1e-0b6b-450a-9730-88f19fe6b318"
      },
      "source": [
        "# Number of records present on the data\n",
        "gender_data.shape"
      ],
      "execution_count": 9,
      "outputs": [
        {
          "output_type": "execute_result",
          "data": {
            "text/plain": [
              "(268010, 2)"
            ]
          },
          "metadata": {
            "tags": []
          },
          "execution_count": 9
        }
      ]
    },
    {
      "cell_type": "markdown",
      "metadata": {
        "id": "19QqVpb1KIxr",
        "colab_type": "text"
      },
      "source": [
        "## Preprocessing the Dataset\n",
        "\n",
        "Here I will perform some basic analysis of the dataset"
      ]
    },
    {
      "cell_type": "code",
      "metadata": {
        "id": "jYhGGdpSJWeS",
        "colab_type": "code",
        "colab": {}
      },
      "source": [
        "# The path columns contains int values. I need to change it to string\n",
        "gender_data = gender_data.astype({'gender' : str, 'path' : str})\n",
        "\n",
        "# Add the .jpg image extension after the id of the image\n",
        "gender_data['path'] = gender_data['path'] + '.jpg'"
      ],
      "execution_count": 0,
      "outputs": []
    },
    {
      "cell_type": "code",
      "metadata": {
        "id": "_g0lo2RjKmR1",
        "colab_type": "code",
        "colab": {
          "base_uri": "https://localhost:8080/",
          "height": 191
        },
        "outputId": "3f81982e-842d-4c72-de2e-3209253370be"
      },
      "source": [
        "# Check the data again\n",
        "gender_data.head()"
      ],
      "execution_count": 11,
      "outputs": [
        {
          "output_type": "execute_result",
          "data": {
            "text/html": [
              "<div>\n",
              "<style scoped>\n",
              "    .dataframe tbody tr th:only-of-type {\n",
              "        vertical-align: middle;\n",
              "    }\n",
              "\n",
              "    .dataframe tbody tr th {\n",
              "        vertical-align: top;\n",
              "    }\n",
              "\n",
              "    .dataframe thead th {\n",
              "        text-align: right;\n",
              "    }\n",
              "</style>\n",
              "<table border=\"1\" class=\"dataframe\">\n",
              "  <thead>\n",
              "    <tr style=\"text-align: right;\">\n",
              "      <th></th>\n",
              "      <th>gender</th>\n",
              "      <th>path</th>\n",
              "    </tr>\n",
              "  </thead>\n",
              "  <tbody>\n",
              "    <tr>\n",
              "      <th>0</th>\n",
              "      <td>Male</td>\n",
              "      <td>217452.jpg</td>\n",
              "    </tr>\n",
              "    <tr>\n",
              "      <th>1</th>\n",
              "      <td>Male</td>\n",
              "      <td>87590.jpg</td>\n",
              "    </tr>\n",
              "    <tr>\n",
              "      <th>2</th>\n",
              "      <td>Female</td>\n",
              "      <td>152842.jpg</td>\n",
              "    </tr>\n",
              "    <tr>\n",
              "      <th>3</th>\n",
              "      <td>Female</td>\n",
              "      <td>142937.jpg</td>\n",
              "    </tr>\n",
              "    <tr>\n",
              "      <th>4</th>\n",
              "      <td>Female</td>\n",
              "      <td>174618.jpg</td>\n",
              "    </tr>\n",
              "  </tbody>\n",
              "</table>\n",
              "</div>"
            ],
            "text/plain": [
              "   gender        path\n",
              "0    Male  217452.jpg\n",
              "1    Male   87590.jpg\n",
              "2  Female  152842.jpg\n",
              "3  Female  142937.jpg\n",
              "4  Female  174618.jpg"
            ]
          },
          "metadata": {
            "tags": []
          },
          "execution_count": 11
        }
      ]
    },
    {
      "cell_type": "markdown",
      "metadata": {
        "id": "tOuwfDE-KxSi",
        "colab_type": "text"
      },
      "source": [
        "## Spliting the dataset\n",
        "\n",
        "Here I will split the dataset into two parts, one for training and one for testing"
      ]
    },
    {
      "cell_type": "code",
      "metadata": {
        "id": "Q9MFuebvKqWD",
        "colab_type": "code",
        "colab": {}
      },
      "source": [
        "train, test = train_test_split(gender_data, test_size=SPLIT_RATIO, random_state=RANDOM_STATE)"
      ],
      "execution_count": 0,
      "outputs": []
    },
    {
      "cell_type": "code",
      "metadata": {
        "id": "HWlCcCeKLqMC",
        "colab_type": "code",
        "colab": {
          "base_uri": "https://localhost:8080/",
          "height": 50
        },
        "outputId": "280c5cc4-8f86-4bf0-8322-2af93d18b95c"
      },
      "source": [
        "# Checking the data again\n",
        "print(train.shape)\n",
        "print(test.shape)"
      ],
      "execution_count": 14,
      "outputs": [
        {
          "output_type": "stream",
          "text": [
            "(214408, 2)\n",
            "(53602, 2)\n"
          ],
          "name": "stdout"
        }
      ]
    },
    {
      "cell_type": "code",
      "metadata": {
        "id": "o4BozPnbLxnH",
        "colab_type": "code",
        "colab": {
          "base_uri": "https://localhost:8080/",
          "height": 191
        },
        "outputId": "dc9ab09f-a453-4560-ac8c-c870db15401e"
      },
      "source": [
        "test.head()"
      ],
      "execution_count": 15,
      "outputs": [
        {
          "output_type": "execute_result",
          "data": {
            "text/html": [
              "<div>\n",
              "<style scoped>\n",
              "    .dataframe tbody tr th:only-of-type {\n",
              "        vertical-align: middle;\n",
              "    }\n",
              "\n",
              "    .dataframe tbody tr th {\n",
              "        vertical-align: top;\n",
              "    }\n",
              "\n",
              "    .dataframe thead th {\n",
              "        text-align: right;\n",
              "    }\n",
              "</style>\n",
              "<table border=\"1\" class=\"dataframe\">\n",
              "  <thead>\n",
              "    <tr style=\"text-align: right;\">\n",
              "      <th></th>\n",
              "      <th>gender</th>\n",
              "      <th>path</th>\n",
              "    </tr>\n",
              "  </thead>\n",
              "  <tbody>\n",
              "    <tr>\n",
              "      <th>52244</th>\n",
              "      <td>Female</td>\n",
              "      <td>124501.jpg</td>\n",
              "    </tr>\n",
              "    <tr>\n",
              "      <th>115944</th>\n",
              "      <td>Male</td>\n",
              "      <td>89004.jpg</td>\n",
              "    </tr>\n",
              "    <tr>\n",
              "      <th>190739</th>\n",
              "      <td>Female</td>\n",
              "      <td>239343.jpg</td>\n",
              "    </tr>\n",
              "    <tr>\n",
              "      <th>146862</th>\n",
              "      <td>Male</td>\n",
              "      <td>100387.jpg</td>\n",
              "    </tr>\n",
              "    <tr>\n",
              "      <th>112875</th>\n",
              "      <td>Male</td>\n",
              "      <td>111000.jpg</td>\n",
              "    </tr>\n",
              "  </tbody>\n",
              "</table>\n",
              "</div>"
            ],
            "text/plain": [
              "        gender        path\n",
              "52244   Female  124501.jpg\n",
              "115944    Male   89004.jpg\n",
              "190739  Female  239343.jpg\n",
              "146862    Male  100387.jpg\n",
              "112875    Male  111000.jpg"
            ]
          },
          "metadata": {
            "tags": []
          },
          "execution_count": 15
        }
      ]
    },
    {
      "cell_type": "code",
      "metadata": {
        "id": "0QSoMnafLzaa",
        "colab_type": "code",
        "colab": {
          "base_uri": "https://localhost:8080/",
          "height": 191
        },
        "outputId": "cbec08a0-8fd2-47a1-a6fd-e8695529e309"
      },
      "source": [
        "train.tail()"
      ],
      "execution_count": 16,
      "outputs": [
        {
          "output_type": "execute_result",
          "data": {
            "text/html": [
              "<div>\n",
              "<style scoped>\n",
              "    .dataframe tbody tr th:only-of-type {\n",
              "        vertical-align: middle;\n",
              "    }\n",
              "\n",
              "    .dataframe tbody tr th {\n",
              "        vertical-align: top;\n",
              "    }\n",
              "\n",
              "    .dataframe thead th {\n",
              "        text-align: right;\n",
              "    }\n",
              "</style>\n",
              "<table border=\"1\" class=\"dataframe\">\n",
              "  <thead>\n",
              "    <tr style=\"text-align: right;\">\n",
              "      <th></th>\n",
              "      <th>gender</th>\n",
              "      <th>path</th>\n",
              "    </tr>\n",
              "  </thead>\n",
              "  <tbody>\n",
              "    <tr>\n",
              "      <th>165838</th>\n",
              "      <td>Female</td>\n",
              "      <td>241271.jpg</td>\n",
              "    </tr>\n",
              "    <tr>\n",
              "      <th>85116</th>\n",
              "      <td>Female</td>\n",
              "      <td>233579.jpg</td>\n",
              "    </tr>\n",
              "    <tr>\n",
              "      <th>175392</th>\n",
              "      <td>Male</td>\n",
              "      <td>191392.jpg</td>\n",
              "    </tr>\n",
              "    <tr>\n",
              "      <th>213220</th>\n",
              "      <td>Male</td>\n",
              "      <td>167308.jpg</td>\n",
              "    </tr>\n",
              "    <tr>\n",
              "      <th>213779</th>\n",
              "      <td>Male</td>\n",
              "      <td>32744.jpg</td>\n",
              "    </tr>\n",
              "  </tbody>\n",
              "</table>\n",
              "</div>"
            ],
            "text/plain": [
              "        gender        path\n",
              "165838  Female  241271.jpg\n",
              "85116   Female  233579.jpg\n",
              "175392    Male  191392.jpg\n",
              "213220    Male  167308.jpg\n",
              "213779    Male   32744.jpg"
            ]
          },
          "metadata": {
            "tags": []
          },
          "execution_count": 16
        }
      ]
    },
    {
      "cell_type": "markdown",
      "metadata": {
        "id": "xjVWKiAuMwdy",
        "colab_type": "text"
      },
      "source": [
        "## Generator Functions\n",
        "\n",
        "The dataset in big, So we need to read the data in small batch. In Keras, ImageDataGenerator class provides a generator methods that we can use here."
      ]
    },
    {
      "cell_type": "code",
      "metadata": {
        "id": "JcOp8XkLMsSJ",
        "colab_type": "code",
        "colab": {}
      },
      "source": [
        "# A generator object with some basic settings\n",
        "generator = ImageDataGenerator(rescale=1./255,\n",
        "                               shear_range=0.2,\n",
        "                               zoom_range=0.3)"
      ],
      "execution_count": 0,
      "outputs": []
    },
    {
      "cell_type": "code",
      "metadata": {
        "id": "NIUK4ALtNVZt",
        "colab_type": "code",
        "colab": {
          "base_uri": "https://localhost:8080/",
          "height": 33
        },
        "outputId": "7ff708dd-c7e9-4009-d906-e1b93b541a3f"
      },
      "source": [
        "# Now I will read the dataset using the generator \n",
        "train_gen = generator.flow_from_dataframe(train, \n",
        "                                          directory='images/',\n",
        "                                          x_col='path',\n",
        "                                          y_col='gender',\n",
        "                                          target_size=(224,224),\n",
        "                                          batch_size=64)"
      ],
      "execution_count": 18,
      "outputs": [
        {
          "output_type": "stream",
          "text": [
            "Found 214408 validated image filenames belonging to 2 classes.\n"
          ],
          "name": "stdout"
        }
      ]
    },
    {
      "cell_type": "code",
      "metadata": {
        "id": "U2JQEFYJNuvq",
        "colab_type": "code",
        "colab": {
          "base_uri": "https://localhost:8080/",
          "height": 33
        },
        "outputId": "14589785-9a55-4131-da53-a0eb743be35b"
      },
      "source": [
        "test_gen = generator.flow_from_dataframe(test, \n",
        "                                         directory='images/',\n",
        "                                         x_col='path',\n",
        "                                         y_col='gender',\n",
        "                                         target_size=(224,224),\n",
        "                                         batch_size=64)"
      ],
      "execution_count": 19,
      "outputs": [
        {
          "output_type": "stream",
          "text": [
            "Found 53602 validated image filenames belonging to 2 classes.\n"
          ],
          "name": "stdout"
        }
      ]
    },
    {
      "cell_type": "markdown",
      "metadata": {
        "id": "K2R-v0BjN68K",
        "colab_type": "text"
      },
      "source": [
        "## Model\n",
        "\n",
        "Here I will make the MobileNetV2 model"
      ]
    },
    {
      "cell_type": "code",
      "metadata": {
        "id": "BJVJGSazN2I7",
        "colab_type": "code",
        "colab": {
          "base_uri": "https://localhost:8080/",
          "height": 281
        },
        "outputId": "02f39e82-421b-40dc-99f8-37721ccceab3"
      },
      "source": [
        "model = Sequential()\n",
        "\n",
        "# Im initializing the model with imagenet weighs\n",
        "mobile = MobileNetV2(include_top=False,\n",
        "                     weights=\"imagenet\", \n",
        "                     input_shape=(224,224,3),\n",
        "                     pooling=\"max\")\n",
        "\n",
        "model.add(mobile)\n",
        "model.add(Dense(units=2, activation=\"softmax\"))"
      ],
      "execution_count": 20,
      "outputs": [
        {
          "output_type": "stream",
          "text": [
            "WARNING: Logging before flag parsing goes to stderr.\n",
            "W0728 10:55:21.280593 140616242890624 deprecation_wrapper.py:119] From /usr/local/lib/python3.6/dist-packages/keras/backend/tensorflow_backend.py:74: The name tf.get_default_graph is deprecated. Please use tf.compat.v1.get_default_graph instead.\n",
            "\n",
            "W0728 10:55:21.351741 140616242890624 deprecation_wrapper.py:119] From /usr/local/lib/python3.6/dist-packages/keras/backend/tensorflow_backend.py:517: The name tf.placeholder is deprecated. Please use tf.compat.v1.placeholder instead.\n",
            "\n",
            "W0728 10:55:21.405712 140616242890624 deprecation_wrapper.py:119] From /usr/local/lib/python3.6/dist-packages/keras/backend/tensorflow_backend.py:4138: The name tf.random_uniform is deprecated. Please use tf.random.uniform instead.\n",
            "\n",
            "W0728 10:55:21.446323 140616242890624 deprecation_wrapper.py:119] From /usr/local/lib/python3.6/dist-packages/keras/backend/tensorflow_backend.py:174: The name tf.get_default_session is deprecated. Please use tf.compat.v1.get_default_session instead.\n",
            "\n",
            "W0728 10:55:21.447512 140616242890624 deprecation_wrapper.py:119] From /usr/local/lib/python3.6/dist-packages/keras/backend/tensorflow_backend.py:181: The name tf.ConfigProto is deprecated. Please use tf.compat.v1.ConfigProto instead.\n",
            "\n",
            "W0728 10:55:24.771883 140616242890624 deprecation_wrapper.py:119] From /usr/local/lib/python3.6/dist-packages/keras/backend/tensorflow_backend.py:1834: The name tf.nn.fused_batch_norm is deprecated. Please use tf.compat.v1.nn.fused_batch_norm instead.\n",
            "\n"
          ],
          "name": "stderr"
        },
        {
          "output_type": "stream",
          "text": [
            "Downloading data from https://github.com/JonathanCMitchell/mobilenet_v2_keras/releases/download/v1.1/mobilenet_v2_weights_tf_dim_ordering_tf_kernels_1.0_224_no_top.h5\n",
            "9412608/9406464 [==============================] - 1s 0us/step\n"
          ],
          "name": "stdout"
        }
      ]
    },
    {
      "cell_type": "code",
      "metadata": {
        "id": "ehcL1HrsOa0d",
        "colab_type": "code",
        "colab": {
          "base_uri": "https://localhost:8080/",
          "height": 118
        },
        "outputId": "d3793472-9dec-49c6-ee9d-ebb567308b3e"
      },
      "source": [
        "model.compile(loss='binary_crossentropy', optimizer=optimizers.RMSprop(lr=2e-5), metrics=['accuracy'])"
      ],
      "execution_count": 21,
      "outputs": [
        {
          "output_type": "stream",
          "text": [
            "W0728 10:56:13.733797 140616242890624 deprecation_wrapper.py:119] From /usr/local/lib/python3.6/dist-packages/keras/optimizers.py:790: The name tf.train.Optimizer is deprecated. Please use tf.compat.v1.train.Optimizer instead.\n",
            "\n",
            "W0728 10:56:13.744560 140616242890624 deprecation.py:323] From /usr/local/lib/python3.6/dist-packages/tensorflow/python/ops/nn_impl.py:180: add_dispatch_support.<locals>.wrapper (from tensorflow.python.ops.array_ops) is deprecated and will be removed in a future version.\n",
            "Instructions for updating:\n",
            "Use tf.where in 2.0, which has the same broadcast rule as np.where\n"
          ],
          "name": "stderr"
        }
      ]
    },
    {
      "cell_type": "code",
      "metadata": {
        "id": "4DkBdWczOfD5",
        "colab_type": "code",
        "colab": {
          "base_uri": "https://localhost:8080/",
          "height": 196
        },
        "outputId": "46b335db-3455-42c9-b663-98bcdeb4e779"
      },
      "source": [
        "model.summary()"
      ],
      "execution_count": 22,
      "outputs": [
        {
          "output_type": "stream",
          "text": [
            "_________________________________________________________________\n",
            "Layer (type)                 Output Shape              Param #   \n",
            "=================================================================\n",
            "mobilenetv2_1.00_224 (Model) (None, 1280)              2257984   \n",
            "_________________________________________________________________\n",
            "dense_1 (Dense)              (None, 2)                 2562      \n",
            "=================================================================\n",
            "Total params: 2,260,546\n",
            "Trainable params: 2,226,434\n",
            "Non-trainable params: 34,112\n",
            "_________________________________________________________________\n"
          ],
          "name": "stdout"
        }
      ]
    },
    {
      "cell_type": "markdown",
      "metadata": {
        "id": "Nf51buAcOp4F",
        "colab_type": "text"
      },
      "source": [
        "## Training the Model\n",
        "\n",
        "Here I will train the model with the dataset"
      ]
    },
    {
      "cell_type": "code",
      "metadata": {
        "id": "KsX4lFQ3Og1e",
        "colab_type": "code",
        "colab": {
          "base_uri": "https://localhost:8080/",
          "height": 82
        },
        "outputId": "a0702556-bc51-4edb-b528-4a8d0442a2a7"
      },
      "source": [
        "STEP_SIZE_TRAIN=train_gen.n//train_gen.batch_size\n",
        "STEP_SIZE_TEST=test_gen.n//test_gen.batch_size\n",
        "\n",
        "history = model.fit_generator(train_gen,\n",
        "                              steps_per_epoch=STEP_SIZE_TRAIN,\n",
        "                              validation_data=test_gen,\n",
        "                              validation_steps=STEP_SIZE_TEST,\n",
        "                              epochs=2)"
      ],
      "execution_count": 23,
      "outputs": [
        {
          "output_type": "stream",
          "text": [
            "Epoch 1/2\n",
            "3350/3350 [==============================] - 3284s 980ms/step - loss: 0.5696 - acc: 0.8177 - val_loss: 0.4390 - val_acc: 0.8498\n",
            "Epoch 2/2\n",
            "3350/3350 [==============================] - 3176s 948ms/step - loss: 0.3753 - acc: 0.8626 - val_loss: 0.3345 - val_acc: 0.8791\n"
          ],
          "name": "stdout"
        }
      ]
    },
    {
      "cell_type": "code",
      "metadata": {
        "id": "fYC11iU1PbpC",
        "colab_type": "code",
        "colab": {}
      },
      "source": [
        "model.save('weights.h5')"
      ],
      "execution_count": 0,
      "outputs": []
    },
    {
      "cell_type": "code",
      "metadata": {
        "id": "HWsSrI17uywL",
        "colab_type": "code",
        "colab": {}
      },
      "source": [
        ""
      ],
      "execution_count": 0,
      "outputs": []
    }
  ]
}