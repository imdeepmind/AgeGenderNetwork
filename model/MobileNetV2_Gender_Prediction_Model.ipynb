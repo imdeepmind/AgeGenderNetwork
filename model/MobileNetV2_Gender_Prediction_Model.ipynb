{
  "nbformat": 4,
  "nbformat_minor": 0,
  "metadata": {
    "colab": {
      "name": "MobileNetV2 Gender Prediction Model",
      "version": "0.3.2",
      "provenance": [],
      "collapsed_sections": [],
      "toc_visible": true
    },
    "kernelspec": {
      "name": "python3",
      "display_name": "Python 3"
    },
    "accelerator": "GPU"
  },
  "cells": [
    {
      "cell_type": "markdown",
      "metadata": {
        "id": "ofjgm0JuEbXG",
        "colab_type": "text"
      },
      "source": [
        "# Gender Prediction using MobileNetV2\n",
        "\n",
        "By Abhishek Chatterjee\n",
        "(abhishekchatterjeejit@gmail.com)\n",
        "\n",
        "**The aim of this project is to make a computer program to detect the gender of a person based on the single image of his/her face. This project is using the MobileNetV2 deep learning CNN architecture to predict it. The dataset that is used to train is a mix of the IMDB WIKI dataset and Selfie Dataset.**"
      ]
    },
    {
      "cell_type": "markdown",
      "metadata": {
        "id": "qC1ItRMZFbSi",
        "colab_type": "text"
      },
      "source": [
        "## Dependencies\n",
        "\n",
        "In the first step, we wil import the dependencies that we need for this project."
      ]
    },
    {
      "cell_type": "code",
      "metadata": {
        "id": "dKmXTPpeCUcy",
        "colab_type": "code",
        "colab": {}
      },
      "source": [
        "# Dependencies\n",
        "import pandas as pd\n",
        "import numpy as np\n",
        "import matplotlib.pyplot as plt\n",
        "\n",
        "from keras.preprocessing.image import ImageDataGenerator\n",
        "from keras.models import Sequential\n",
        "from keras.layers import Dense, Flatten\n",
        "from keras.applications import MobileNetV2\n",
        "from keras import optimizers\n",
        "\n",
        "from sklearn.model_selection import train_test_split"
      ],
      "execution_count": 0,
      "outputs": []
    },
    {
      "cell_type": "markdown",
      "metadata": {
        "id": "965oWlMrGb5v",
        "colab_type": "text"
      },
      "source": [
        "## Connecting Google Drive\n",
        "\n",
        "As I'm running it on Google Colab, and my dataset is stored into Google Drive, so I need to connect Colab with Google Drive"
      ]
    },
    {
      "cell_type": "code",
      "metadata": {
        "id": "DV9pbw4gGqmE",
        "colab_type": "code",
        "outputId": "d7db767e-55b0-4277-9497-a3af2c40ad65",
        "colab": {
          "base_uri": "https://localhost:8080/",
          "height": 118
        }
      },
      "source": [
        "from google.colab import drive\n",
        "drive.mount('/content/drive')"
      ],
      "execution_count": 0,
      "outputs": [
        {
          "output_type": "stream",
          "text": [
            "Go to this URL in a browser: https://accounts.google.com/o/oauth2/auth?client_id=947318989803-6bn6qk8qdgf4n4g3pfee6491hc0brc4i.apps.googleusercontent.com&redirect_uri=urn%3Aietf%3Awg%3Aoauth%3A2.0%3Aoob&scope=email%20https%3A%2F%2Fwww.googleapis.com%2Fauth%2Fdocs.test%20https%3A%2F%2Fwww.googleapis.com%2Fauth%2Fdrive%20https%3A%2F%2Fwww.googleapis.com%2Fauth%2Fdrive.photos.readonly%20https%3A%2F%2Fwww.googleapis.com%2Fauth%2Fpeopleapi.readonly&response_type=code\n",
            "\n",
            "Enter your authorization code:\n",
            "··········\n",
            "Mounted at /content/drive\n"
          ],
          "name": "stdout"
        }
      ]
    },
    {
      "cell_type": "markdown",
      "metadata": {
        "id": "btcrbaesHRwq",
        "colab_type": "text"
      },
      "source": [
        "## Unzipping the dataset\n",
        "\n",
        "In Google Drive, the dataset is stored as a zip file. So before using it, I need to unzip it."
      ]
    },
    {
      "cell_type": "code",
      "metadata": {
        "id": "Tee1RLZpHdVd",
        "colab_type": "code",
        "colab": {}
      },
      "source": [
        "!unzip -qq 'drive/My Drive/dataset/imdb+wiki+selfie.zip' -d ./"
      ],
      "execution_count": 0,
      "outputs": []
    },
    {
      "cell_type": "markdown",
      "metadata": {
        "id": "9qUihhGFITe-",
        "colab_type": "text"
      },
      "source": [
        "There are three files in the dataset.\n",
        "\n",
        "\n",
        "*   images/ folder - This folder contains the original images\n",
        "*   gender.csv - This CSV file contains the meta information for the dataset (gender and image name)\n",
        "*   age.csv - This CSV file contains the meta information for the age dataset (not needed here)\n",
        "\n"
      ]
    },
    {
      "cell_type": "markdown",
      "metadata": {
        "id": "ixqmbA_HG3lF",
        "colab_type": "text"
      },
      "source": [
        "## Reading the Dataset\n",
        "\n",
        "In this step, I will read the dataset, stored in CSV format. To read the dataset, I will use the pandas read_csv method.\n",
        "\n",
        "Note: The entire the dataset is already preprocessed and cleaned. Please check the preprocessing code."
      ]
    },
    {
      "cell_type": "code",
      "metadata": {
        "id": "xjuGyea0FKQX",
        "colab_type": "code",
        "colab": {}
      },
      "source": [
        "gender_data = pd.read_csv('./gender.csv')\n",
        "\n",
        "# Fir testing im just using 10% of the data\n",
        "# gender_data = gender_data.sample(frac=0.1)"
      ],
      "execution_count": 0,
      "outputs": []
    },
    {
      "cell_type": "markdown",
      "metadata": {
        "id": "hzwUXA0vJ9vn",
        "colab_type": "text"
      },
      "source": [
        "## Analysing the Dataset\n",
        "\n",
        "In this step, I will perform some basic analysis on the data"
      ]
    },
    {
      "cell_type": "code",
      "metadata": {
        "id": "-ukJmOpvI6Gf",
        "colab_type": "code",
        "outputId": "65f516ea-ce93-4253-98b8-28d46d170495",
        "colab": {
          "base_uri": "https://localhost:8080/",
          "height": 191
        }
      },
      "source": [
        "# Priting the first 10 rows of the dataset\n",
        "gender_data.head()"
      ],
      "execution_count": 0,
      "outputs": [
        {
          "output_type": "execute_result",
          "data": {
            "text/html": [
              "<div>\n",
              "<style scoped>\n",
              "    .dataframe tbody tr th:only-of-type {\n",
              "        vertical-align: middle;\n",
              "    }\n",
              "\n",
              "    .dataframe tbody tr th {\n",
              "        vertical-align: top;\n",
              "    }\n",
              "\n",
              "    .dataframe thead th {\n",
              "        text-align: right;\n",
              "    }\n",
              "</style>\n",
              "<table border=\"1\" class=\"dataframe\">\n",
              "  <thead>\n",
              "    <tr style=\"text-align: right;\">\n",
              "      <th></th>\n",
              "      <th>gender</th>\n",
              "      <th>path</th>\n",
              "    </tr>\n",
              "  </thead>\n",
              "  <tbody>\n",
              "    <tr>\n",
              "      <th>0</th>\n",
              "      <td>Male</td>\n",
              "      <td>217452</td>\n",
              "    </tr>\n",
              "    <tr>\n",
              "      <th>1</th>\n",
              "      <td>Male</td>\n",
              "      <td>87590</td>\n",
              "    </tr>\n",
              "    <tr>\n",
              "      <th>2</th>\n",
              "      <td>Female</td>\n",
              "      <td>152842</td>\n",
              "    </tr>\n",
              "    <tr>\n",
              "      <th>3</th>\n",
              "      <td>Female</td>\n",
              "      <td>142937</td>\n",
              "    </tr>\n",
              "    <tr>\n",
              "      <th>4</th>\n",
              "      <td>Female</td>\n",
              "      <td>174618</td>\n",
              "    </tr>\n",
              "  </tbody>\n",
              "</table>\n",
              "</div>"
            ],
            "text/plain": [
              "   gender    path\n",
              "0    Male  217452\n",
              "1    Male   87590\n",
              "2  Female  152842\n",
              "3  Female  142937\n",
              "4  Female  174618"
            ]
          },
          "metadata": {
            "tags": []
          },
          "execution_count": 30
        }
      ]
    },
    {
      "cell_type": "code",
      "metadata": {
        "id": "oA_TpuzVJAF2",
        "colab_type": "code",
        "outputId": "ff992857-eadb-4879-ce86-37d885c91a9f",
        "colab": {
          "base_uri": "https://localhost:8080/",
          "height": 191
        }
      },
      "source": [
        "# Printing the last 10 rows of the dataset\n",
        "gender_data.tail()"
      ],
      "execution_count": 0,
      "outputs": [
        {
          "output_type": "execute_result",
          "data": {
            "text/html": [
              "<div>\n",
              "<style scoped>\n",
              "    .dataframe tbody tr th:only-of-type {\n",
              "        vertical-align: middle;\n",
              "    }\n",
              "\n",
              "    .dataframe tbody tr th {\n",
              "        vertical-align: top;\n",
              "    }\n",
              "\n",
              "    .dataframe thead th {\n",
              "        text-align: right;\n",
              "    }\n",
              "</style>\n",
              "<table border=\"1\" class=\"dataframe\">\n",
              "  <thead>\n",
              "    <tr style=\"text-align: right;\">\n",
              "      <th></th>\n",
              "      <th>gender</th>\n",
              "      <th>path</th>\n",
              "    </tr>\n",
              "  </thead>\n",
              "  <tbody>\n",
              "    <tr>\n",
              "      <th>268005</th>\n",
              "      <td>Male</td>\n",
              "      <td>14299</td>\n",
              "    </tr>\n",
              "    <tr>\n",
              "      <th>268006</th>\n",
              "      <td>Male</td>\n",
              "      <td>115428</td>\n",
              "    </tr>\n",
              "    <tr>\n",
              "      <th>268007</th>\n",
              "      <td>Male</td>\n",
              "      <td>110861</td>\n",
              "    </tr>\n",
              "    <tr>\n",
              "      <th>268008</th>\n",
              "      <td>Female</td>\n",
              "      <td>20448</td>\n",
              "    </tr>\n",
              "    <tr>\n",
              "      <th>268009</th>\n",
              "      <td>Male</td>\n",
              "      <td>128117</td>\n",
              "    </tr>\n",
              "  </tbody>\n",
              "</table>\n",
              "</div>"
            ],
            "text/plain": [
              "        gender    path\n",
              "268005    Male   14299\n",
              "268006    Male  115428\n",
              "268007    Male  110861\n",
              "268008  Female   20448\n",
              "268009    Male  128117"
            ]
          },
          "metadata": {
            "tags": []
          },
          "execution_count": 31
        }
      ]
    },
    {
      "cell_type": "code",
      "metadata": {
        "id": "L5BZ-ap1JFNi",
        "colab_type": "code",
        "outputId": "a038cd38-9364-4753-bcbb-f6a04a1e823d",
        "colab": {
          "base_uri": "https://localhost:8080/",
          "height": 33
        }
      },
      "source": [
        "# Listing the column names\n",
        "print(gender_data.columns)"
      ],
      "execution_count": 0,
      "outputs": [
        {
          "output_type": "stream",
          "text": [
            "Index(['gender', 'path'], dtype='object')\n"
          ],
          "name": "stdout"
        }
      ]
    },
    {
      "cell_type": "markdown",
      "metadata": {
        "id": "G_nMitPQJZzv",
        "colab_type": "text"
      },
      "source": [
        "The column gender contains the gender label as Male and Female. And the column path contains the unique id of the images."
      ]
    },
    {
      "cell_type": "code",
      "metadata": {
        "id": "t6ypSuGDJMsz",
        "colab_type": "code",
        "outputId": "f154095e-2a3b-445a-a654-6364e751c310",
        "colab": {
          "base_uri": "https://localhost:8080/",
          "height": 33
        }
      },
      "source": [
        "# Number of records present on the data\n",
        "gender_data.shape"
      ],
      "execution_count": 0,
      "outputs": [
        {
          "output_type": "execute_result",
          "data": {
            "text/plain": [
              "(268010, 2)"
            ]
          },
          "metadata": {
            "tags": []
          },
          "execution_count": 33
        }
      ]
    },
    {
      "cell_type": "markdown",
      "metadata": {
        "id": "19QqVpb1KIxr",
        "colab_type": "text"
      },
      "source": [
        "## Preprocessing the Dataset\n",
        "\n",
        "Here I will perform some basic analysis of the dataset"
      ]
    },
    {
      "cell_type": "code",
      "metadata": {
        "id": "jYhGGdpSJWeS",
        "colab_type": "code",
        "colab": {}
      },
      "source": [
        "# The path columns contains int values. I need to change it to string\n",
        "gender_data = gender_data.astype({'gender' : str, 'path' : str})\n",
        "\n",
        "# Add the .jpg image extension after the id of the image\n",
        "gender_data['path'] = gender_data['path'] + '.jpg'"
      ],
      "execution_count": 0,
      "outputs": []
    },
    {
      "cell_type": "code",
      "metadata": {
        "id": "_g0lo2RjKmR1",
        "colab_type": "code",
        "outputId": "fcb59bea-da4e-42b1-8e0d-5bfe82a2f67b",
        "colab": {
          "base_uri": "https://localhost:8080/",
          "height": 191
        }
      },
      "source": [
        "# Check the data again\n",
        "gender_data.head()"
      ],
      "execution_count": 0,
      "outputs": [
        {
          "output_type": "execute_result",
          "data": {
            "text/html": [
              "<div>\n",
              "<style scoped>\n",
              "    .dataframe tbody tr th:only-of-type {\n",
              "        vertical-align: middle;\n",
              "    }\n",
              "\n",
              "    .dataframe tbody tr th {\n",
              "        vertical-align: top;\n",
              "    }\n",
              "\n",
              "    .dataframe thead th {\n",
              "        text-align: right;\n",
              "    }\n",
              "</style>\n",
              "<table border=\"1\" class=\"dataframe\">\n",
              "  <thead>\n",
              "    <tr style=\"text-align: right;\">\n",
              "      <th></th>\n",
              "      <th>gender</th>\n",
              "      <th>path</th>\n",
              "    </tr>\n",
              "  </thead>\n",
              "  <tbody>\n",
              "    <tr>\n",
              "      <th>0</th>\n",
              "      <td>Male</td>\n",
              "      <td>217452.jpg</td>\n",
              "    </tr>\n",
              "    <tr>\n",
              "      <th>1</th>\n",
              "      <td>Male</td>\n",
              "      <td>87590.jpg</td>\n",
              "    </tr>\n",
              "    <tr>\n",
              "      <th>2</th>\n",
              "      <td>Female</td>\n",
              "      <td>152842.jpg</td>\n",
              "    </tr>\n",
              "    <tr>\n",
              "      <th>3</th>\n",
              "      <td>Female</td>\n",
              "      <td>142937.jpg</td>\n",
              "    </tr>\n",
              "    <tr>\n",
              "      <th>4</th>\n",
              "      <td>Female</td>\n",
              "      <td>174618.jpg</td>\n",
              "    </tr>\n",
              "  </tbody>\n",
              "</table>\n",
              "</div>"
            ],
            "text/plain": [
              "   gender        path\n",
              "0    Male  217452.jpg\n",
              "1    Male   87590.jpg\n",
              "2  Female  152842.jpg\n",
              "3  Female  142937.jpg\n",
              "4  Female  174618.jpg"
            ]
          },
          "metadata": {
            "tags": []
          },
          "execution_count": 35
        }
      ]
    },
    {
      "cell_type": "markdown",
      "metadata": {
        "id": "O7GEL9B9OcR_",
        "colab_type": "text"
      },
      "source": [
        "## Checking the class balance \n",
        "\n",
        "In this step, I need to check the class balance of the dataset. If there is more samples for one class, then our model can be biased towards that class. To solve this problem, we need to use some type of sampling. "
      ]
    },
    {
      "cell_type": "code",
      "metadata": {
        "id": "Ac-P5rE-Ozgb",
        "colab_type": "code",
        "outputId": "1599a3a1-d5b4-47f2-bf60-4f60438921af",
        "colab": {
          "base_uri": "https://localhost:8080/",
          "height": 270
        }
      },
      "source": [
        "genders = []\n",
        "\n",
        "for gender in gender_data['gender'].values:\n",
        "  if gender == 'Male':\n",
        "    genders.append(1)\n",
        "  else:\n",
        "    genders.append(0)\n",
        "\n",
        "plt.hist(genders, 2)\n",
        "plt.show()"
      ],
      "execution_count": 0,
      "outputs": [
        {
          "output_type": "display_data",
          "data": {
            "image/png": "[encoded data removed]",
            "text/plain": [
              "<Figure size 432x288 with 1 Axes>"
            ]
          },
          "metadata": {
            "tags": []
          }
        }
      ]
    },
    {
      "cell_type": "markdown",
      "metadata": {
        "id": "eVBoX_pQOcNo",
        "colab_type": "text"
      },
      "source": [
        "Here there is almost equal number of samples for each class. So we dont need to do any sampling."
      ]
    },
    {
      "cell_type": "markdown",
      "metadata": {
        "id": "tOuwfDE-KxSi",
        "colab_type": "text"
      },
      "source": [
        "## Spliting the dataset\n",
        "\n",
        "Here I will split the dataset into two parts, one for training and one for testing"
      ]
    },
    {
      "cell_type": "code",
      "metadata": {
        "id": "Q9MFuebvKqWD",
        "colab_type": "code",
        "colab": {}
      },
      "source": [
        "train, test = train_test_split(gender_data, test_size=0.2, random_state=1969)"
      ],
      "execution_count": 0,
      "outputs": []
    },
    {
      "cell_type": "code",
      "metadata": {
        "id": "HWlCcCeKLqMC",
        "colab_type": "code",
        "outputId": "24f5cb16-7f52-4ca3-d07f-69d0dd3641ce",
        "colab": {
          "base_uri": "https://localhost:8080/",
          "height": 50
        }
      },
      "source": [
        "# Checking the data again\n",
        "print(train.shape)\n",
        "print(test.shape)"
      ],
      "execution_count": 0,
      "outputs": [
        {
          "output_type": "stream",
          "text": [
            "(214408, 2)\n",
            "(53602, 2)\n"
          ],
          "name": "stdout"
        }
      ]
    },
    {
      "cell_type": "code",
      "metadata": {
        "id": "o4BozPnbLxnH",
        "colab_type": "code",
        "outputId": "f0064f6e-fe44-4294-a2fd-16fa774ced92",
        "colab": {
          "base_uri": "https://localhost:8080/",
          "height": 191
        }
      },
      "source": [
        "test.head()"
      ],
      "execution_count": 0,
      "outputs": [
        {
          "output_type": "execute_result",
          "data": {
            "text/html": [
              "<div>\n",
              "<style scoped>\n",
              "    .dataframe tbody tr th:only-of-type {\n",
              "        vertical-align: middle;\n",
              "    }\n",
              "\n",
              "    .dataframe tbody tr th {\n",
              "        vertical-align: top;\n",
              "    }\n",
              "\n",
              "    .dataframe thead th {\n",
              "        text-align: right;\n",
              "    }\n",
              "</style>\n",
              "<table border=\"1\" class=\"dataframe\">\n",
              "  <thead>\n",
              "    <tr style=\"text-align: right;\">\n",
              "      <th></th>\n",
              "      <th>gender</th>\n",
              "      <th>path</th>\n",
              "    </tr>\n",
              "  </thead>\n",
              "  <tbody>\n",
              "    <tr>\n",
              "      <th>52244</th>\n",
              "      <td>Female</td>\n",
              "      <td>124501.jpg</td>\n",
              "    </tr>\n",
              "    <tr>\n",
              "      <th>115944</th>\n",
              "      <td>Male</td>\n",
              "      <td>89004.jpg</td>\n",
              "    </tr>\n",
              "    <tr>\n",
              "      <th>190739</th>\n",
              "      <td>Female</td>\n",
              "      <td>239343.jpg</td>\n",
              "    </tr>\n",
              "    <tr>\n",
              "      <th>146862</th>\n",
              "      <td>Male</td>\n",
              "      <td>100387.jpg</td>\n",
              "    </tr>\n",
              "    <tr>\n",
              "      <th>112875</th>\n",
              "      <td>Male</td>\n",
              "      <td>111000.jpg</td>\n",
              "    </tr>\n",
              "  </tbody>\n",
              "</table>\n",
              "</div>"
            ],
            "text/plain": [
              "        gender        path\n",
              "52244   Female  124501.jpg\n",
              "115944    Male   89004.jpg\n",
              "190739  Female  239343.jpg\n",
              "146862    Male  100387.jpg\n",
              "112875    Male  111000.jpg"
            ]
          },
          "metadata": {
            "tags": []
          },
          "execution_count": 39
        }
      ]
    },
    {
      "cell_type": "code",
      "metadata": {
        "id": "0QSoMnafLzaa",
        "colab_type": "code",
        "outputId": "0038b974-57e2-4152-f283-a8d5f5ac3bd5",
        "colab": {
          "base_uri": "https://localhost:8080/",
          "height": 191
        }
      },
      "source": [
        "train.tail()"
      ],
      "execution_count": 0,
      "outputs": [
        {
          "output_type": "execute_result",
          "data": {
            "text/html": [
              "<div>\n",
              "<style scoped>\n",
              "    .dataframe tbody tr th:only-of-type {\n",
              "        vertical-align: middle;\n",
              "    }\n",
              "\n",
              "    .dataframe tbody tr th {\n",
              "        vertical-align: top;\n",
              "    }\n",
              "\n",
              "    .dataframe thead th {\n",
              "        text-align: right;\n",
              "    }\n",
              "</style>\n",
              "<table border=\"1\" class=\"dataframe\">\n",
              "  <thead>\n",
              "    <tr style=\"text-align: right;\">\n",
              "      <th></th>\n",
              "      <th>gender</th>\n",
              "      <th>path</th>\n",
              "    </tr>\n",
              "  </thead>\n",
              "  <tbody>\n",
              "    <tr>\n",
              "      <th>165838</th>\n",
              "      <td>Female</td>\n",
              "      <td>241271.jpg</td>\n",
              "    </tr>\n",
              "    <tr>\n",
              "      <th>85116</th>\n",
              "      <td>Female</td>\n",
              "      <td>233579.jpg</td>\n",
              "    </tr>\n",
              "    <tr>\n",
              "      <th>175392</th>\n",
              "      <td>Male</td>\n",
              "      <td>191392.jpg</td>\n",
              "    </tr>\n",
              "    <tr>\n",
              "      <th>213220</th>\n",
              "      <td>Male</td>\n",
              "      <td>167308.jpg</td>\n",
              "    </tr>\n",
              "    <tr>\n",
              "      <th>213779</th>\n",
              "      <td>Male</td>\n",
              "      <td>32744.jpg</td>\n",
              "    </tr>\n",
              "  </tbody>\n",
              "</table>\n",
              "</div>"
            ],
            "text/plain": [
              "        gender        path\n",
              "165838  Female  241271.jpg\n",
              "85116   Female  233579.jpg\n",
              "175392    Male  191392.jpg\n",
              "213220    Male  167308.jpg\n",
              "213779    Male   32744.jpg"
            ]
          },
          "metadata": {
            "tags": []
          },
          "execution_count": 40
        }
      ]
    },
    {
      "cell_type": "markdown",
      "metadata": {
        "id": "xjVWKiAuMwdy",
        "colab_type": "text"
      },
      "source": [
        "## Generator Functions\n",
        "\n",
        "The dataset in big, So we need to read the data in small batch. In Keras, ImageDataGenerator class provides a generator methods that we can use here."
      ]
    },
    {
      "cell_type": "code",
      "metadata": {
        "id": "JcOp8XkLMsSJ",
        "colab_type": "code",
        "colab": {}
      },
      "source": [
        "# A generator object with some basic settings\n",
        "generator = ImageDataGenerator(featurewise_center=False,\n",
        "                               samplewise_center=False,  \n",
        "                               featurewise_std_normalization=False,\n",
        "                               samplewise_std_normalization=False,\n",
        "                               zca_whitening=False,\n",
        "                               rotation_range=10,  \n",
        "                               zoom_range = 0.1, \n",
        "                               width_shift_range=0.1,  \n",
        "                               height_shift_range=0.1,\n",
        "                               horizontal_flip=True,  \n",
        "                               vertical_flip=False)  "
      ],
      "execution_count": 0,
      "outputs": []
    },
    {
      "cell_type": "code",
      "metadata": {
        "id": "NIUK4ALtNVZt",
        "colab_type": "code",
        "outputId": "fd89d54b-1370-426b-e478-fa8a2d56f8fe",
        "colab": {
          "base_uri": "https://localhost:8080/",
          "height": 33
        }
      },
      "source": [
        "# Now I will read the dataset using the generator \n",
        "train_gen = generator.flow_from_dataframe(train, \n",
        "                                          directory='images/',\n",
        "                                          x_col='path',\n",
        "                                          y_col='gender',\n",
        "                                          target_size=(224,224),\n",
        "                                          batch_size=64)"
      ],
      "execution_count": 0,
      "outputs": [
        {
          "output_type": "stream",
          "text": [
            "Found 214408 validated image filenames belonging to 2 classes.\n"
          ],
          "name": "stdout"
        }
      ]
    },
    {
      "cell_type": "code",
      "metadata": {
        "id": "U2JQEFYJNuvq",
        "colab_type": "code",
        "outputId": "82fdb49e-b763-48fa-d69a-31fc69b9dc69",
        "colab": {
          "base_uri": "https://localhost:8080/",
          "height": 33
        }
      },
      "source": [
        "test_gen = generator.flow_from_dataframe(test, \n",
        "                                         directory='images/',\n",
        "                                         x_col='path',\n",
        "                                         y_col='gender',\n",
        "                                         target_size=(224,224),\n",
        "                                         batch_size=64)"
      ],
      "execution_count": 0,
      "outputs": [
        {
          "output_type": "stream",
          "text": [
            "Found 53602 validated image filenames belonging to 2 classes.\n"
          ],
          "name": "stdout"
        }
      ]
    },
    {
      "cell_type": "markdown",
      "metadata": {
        "id": "K2R-v0BjN68K",
        "colab_type": "text"
      },
      "source": [
        "## Model\n",
        "\n",
        "Here I will make the MobileNetV2 model"
      ]
    },
    {
      "cell_type": "code",
      "metadata": {
        "id": "BJVJGSazN2I7",
        "colab_type": "code",
        "colab": {}
      },
      "source": [
        "model = Sequential()\n",
        "\n",
        "# Im initializing the model with imagenet weighs\n",
        "mobile = MobileNetV2(include_top=False,\n",
        "                     weights=\"imagenet\", \n",
        "                     input_shape=(224,224,3),\n",
        "                     pooling=\"max\")\n",
        "\n",
        "model.add(mobile)\n",
        "model.add(Dense(units=2, activation=\"softmax\"))"
      ],
      "execution_count": 0,
      "outputs": []
    },
    {
      "cell_type": "code",
      "metadata": {
        "id": "ehcL1HrsOa0d",
        "colab_type": "code",
        "colab": {}
      },
      "source": [
        "model.compile(loss='binary_crossentropy', optimizer=optimizers.RMSprop(lr=2e-5), metrics=['accuracy'])"
      ],
      "execution_count": 0,
      "outputs": []
    },
    {
      "cell_type": "code",
      "metadata": {
        "id": "4DkBdWczOfD5",
        "colab_type": "code",
        "outputId": "e8b8e4de-5fdc-4b2c-88ba-a172cf12516c",
        "colab": {
          "base_uri": "https://localhost:8080/",
          "height": 196
        }
      },
      "source": [
        "model.summary()"
      ],
      "execution_count": 0,
      "outputs": [
        {
          "output_type": "stream",
          "text": [
            "_________________________________________________________________\n",
            "Layer (type)                 Output Shape              Param #   \n",
            "=================================================================\n",
            "mobilenetv2_1.00_224 (Model) (None, 1280)              2257984   \n",
            "_________________________________________________________________\n",
            "dense_2 (Dense)              (None, 2)                 2562      \n",
            "=================================================================\n",
            "Total params: 2,260,546\n",
            "Trainable params: 2,226,434\n",
            "Non-trainable params: 34,112\n",
            "_________________________________________________________________\n"
          ],
          "name": "stdout"
        }
      ]
    },
    {
      "cell_type": "markdown",
      "metadata": {
        "id": "Nf51buAcOp4F",
        "colab_type": "text"
      },
      "source": [
        "## Training the Model\n",
        "\n",
        "Here I will train the model with the dataset"
      ]
    },
    {
      "cell_type": "code",
      "metadata": {
        "id": "KsX4lFQ3Og1e",
        "colab_type": "code",
        "outputId": "8b5e09df-ca2b-4323-a872-ee810ab722d7",
        "colab": {
          "base_uri": "https://localhost:8080/",
          "height": 115
        }
      },
      "source": [
        "STEP_SIZE_TRAIN=train_gen.n//train_gen.batch_size\n",
        "STEP_SIZE_TEST=test_gen.n//test_gen.batch_size\n",
        "\n",
        "history = model.fit_generator(train_gen,\n",
        "                              steps_per_epoch=STEP_SIZE_TRAIN,\n",
        "                              validation_data=test_gen,\n",
        "                              validation_steps=STEP_SIZE_TEST,\n",
        "                              epochs=3)"
      ],
      "execution_count": 0,
      "outputs": [
        {
          "output_type": "stream",
          "text": [
            "Epoch 1/3\n",
            "3350/3350 [==============================] - 3226s 963ms/step - loss: 0.5380 - acc: 0.8245 - val_loss: 0.3963 - val_acc: 0.8656\n",
            "Epoch 2/3\n",
            "3350/3350 [==============================] - 3164s 945ms/step - loss: 0.3298 - acc: 0.8728 - val_loss: 0.2936 - val_acc: 0.8951\n",
            "Epoch 3/3\n",
            "3350/3350 [==============================] - 3061s 914ms/step - loss: 0.2684 - acc: 0.8961 - val_loss: 0.2533 - val_acc: 0.9052\n"
          ],
          "name": "stdout"
        }
      ]
    },
    {
      "cell_type": "markdown",
      "metadata": {
        "id": "-fYpQ8SdRr_v",
        "colab_type": "text"
      },
      "source": [
        "## Ploting Training Graphs \n",
        "\n",
        "Plotting training graphs to analyse the performence"
      ]
    },
    {
      "cell_type": "code",
      "metadata": {
        "id": "FR223y7tRj63",
        "colab_type": "code",
        "outputId": "b4b89339-3f44-4d32-e444-dbb6e2ad33eb",
        "colab": {
          "base_uri": "https://localhost:8080/",
          "height": 572
        }
      },
      "source": [
        "plt.plot(history.history['acc'])\n",
        "plt.plot(history.history['val_acc'])\n",
        "plt.title('model accuracy')\n",
        "plt.ylabel('accuracy')\n",
        "plt.xlabel('epoch')\n",
        "plt.legend(['train', 'test'], loc='upper left')\n",
        "plt.show()\n",
        "\n",
        "plt.plot(history.history['loss'])\n",
        "plt.plot(history.history['val_loss'])\n",
        "plt.title('model loss')\n",
        "plt.ylabel('loss')\n",
        "plt.xlabel('epoch')\n",
        "plt.legend(['train', 'test'], loc='upper left')\n",
        "plt.show()"
      ],
      "execution_count": 0,
      "outputs": [
        {
          "output_type": "display_data",
          "data": {
            "image/png": "[encoded data removed]",
            "text/plain": [
              "<Figure size 432x288 with 1 Axes>"
            ]
          },
          "metadata": {
            "tags": []
          }
        },
        {
          "output_type": "display_data",
          "data": {
            "image/png": "[encoded data removed]",
            "text/plain": [
              "<Figure size 432x288 with 1 Axes>"
            ]
          },
          "metadata": {
            "tags": []
          }
        }
      ]
    },
    {
      "cell_type": "code",
      "metadata": {
        "id": "fYC11iU1PbpC",
        "colab_type": "code",
        "colab": {}
      },
      "source": [
        "model.save('weights.h5')"
      ],
      "execution_count": 0,
      "outputs": []
    }
  ]
}