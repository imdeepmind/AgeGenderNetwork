{
  "nbformat": 4,
  "nbformat_minor": 0,
  "metadata": {
    "colab": {
      "name": "MobileNetV2 Age Prediction Model.ipynb",
      "version": "0.3.2",
      "provenance": [],
      "collapsed_sections": [],
      "toc_visible": true
    },
    "kernelspec": {
      "name": "python3",
      "display_name": "Python 3"
    },
    "accelerator": "GPU"
  },
  "cells": [
    {
      "cell_type": "markdown",
      "metadata": {
        "id": "ofjgm0JuEbXG",
        "colab_type": "text"
      },
      "source": [
        "# Age Prediction using MobileNetV2\n",
        "\n",
        "By Abhishek Chatterjee\n",
        "(abhishekchatterjeejit@gmail.com)\n",
        "\n",
        "**The aim of this project is to make a computer program to predict the age of a person based on the single image of his/her face. This project is using the MobileNetV2 deep learning CNN architecture to predict it. The dataset that is used to train is a mix of the IMDB WIKI dataset and Selfie Dataset.**"
      ]
    },
    {
      "cell_type": "markdown",
      "metadata": {
        "id": "qC1ItRMZFbSi",
        "colab_type": "text"
      },
      "source": [
        "## Dependencies\n",
        "\n",
        "In the first step, we wil import the dependencies that we need for this project."
      ]
    },
    {
      "cell_type": "code",
      "metadata": {
        "id": "dKmXTPpeCUcy",
        "colab_type": "code",
        "outputId": "9968d0dd-a43f-4710-f447-407be80a1557",
        "colab": {
          "base_uri": "https://localhost:8080/",
          "height": 33
        }
      },
      "source": [
        "# Dependencies\n",
        "import pandas as pd\n",
        "import numpy as np\n",
        "import matplotlib.pyplot as plt\n",
        "\n",
        "from keras.preprocessing.image import ImageDataGenerator\n",
        "from keras.models import Sequential\n",
        "from keras.layers import Dense, Flatten\n",
        "from keras.applications import MobileNetV2\n",
        "from keras import optimizers\n",
        "\n",
        "from sklearn.model_selection import train_test_split"
      ],
      "execution_count": 1,
      "outputs": [
        {
          "output_type": "stream",
          "text": [
            "Using TensorFlow backend.\n"
          ],
          "name": "stderr"
        }
      ]
    },
    {
      "cell_type": "markdown",
      "metadata": {
        "id": "965oWlMrGb5v",
        "colab_type": "text"
      },
      "source": [
        "## Connecting Google Drive\n",
        "\n",
        "As I'm running it on Google Colab, and my dataset is stored into Google Drive, so I need to connect Colab with Google Drive"
      ]
    },
    {
      "cell_type": "code",
      "metadata": {
        "id": "DV9pbw4gGqmE",
        "colab_type": "code",
        "outputId": "87a095f9-ee5d-4312-e7a1-503366a4274c",
        "colab": {
          "base_uri": "https://localhost:8080/",
          "height": 118
        }
      },
      "source": [
        "from google.colab import drive\n",
        "drive.mount('/content/drive')"
      ],
      "execution_count": 2,
      "outputs": [
        {
          "output_type": "stream",
          "text": [
            "Go to this URL in a browser: https://accounts.google.com/o/oauth2/auth?client_id=947318989803-6bn6qk8qdgf4n4g3pfee6491hc0brc4i.apps.googleusercontent.com&redirect_uri=urn%3Aietf%3Awg%3Aoauth%3A2.0%3Aoob&scope=email%20https%3A%2F%2Fwww.googleapis.com%2Fauth%2Fdocs.test%20https%3A%2F%2Fwww.googleapis.com%2Fauth%2Fdrive%20https%3A%2F%2Fwww.googleapis.com%2Fauth%2Fdrive.photos.readonly%20https%3A%2F%2Fwww.googleapis.com%2Fauth%2Fpeopleapi.readonly&response_type=code\n",
            "\n",
            "Enter your authorization code:\n",
            "··········\n",
            "Mounted at /content/drive\n"
          ],
          "name": "stdout"
        }
      ]
    },
    {
      "cell_type": "markdown",
      "metadata": {
        "id": "btcrbaesHRwq",
        "colab_type": "text"
      },
      "source": [
        "## Unzipping the dataset\n",
        "\n",
        "In Google Drive, the dataset is stored as a zip file. So before using it, I need to unzip it."
      ]
    },
    {
      "cell_type": "code",
      "metadata": {
        "id": "Tee1RLZpHdVd",
        "colab_type": "code",
        "colab": {}
      },
      "source": [
        "!unzip -qq 'drive/My Drive/dataset/imdb+wiki+selfie.zip' -d ./"
      ],
      "execution_count": 0,
      "outputs": []
    },
    {
      "cell_type": "markdown",
      "metadata": {
        "id": "9qUihhGFITe-",
        "colab_type": "text"
      },
      "source": [
        "There are three files in the dataset.\n",
        "\n",
        "\n",
        "*   images/ folder - This folder contains the original images\n",
        "*   gender.csv - This CSV file contains the meta information for the dataset (gender and image name)\n",
        "*   age.csv - This CSV file contains the meta information for the age dataset (not needed here)\n",
        "\n"
      ]
    },
    {
      "cell_type": "markdown",
      "metadata": {
        "id": "ixqmbA_HG3lF",
        "colab_type": "text"
      },
      "source": [
        "## Reading the Dataset\n",
        "\n",
        "In this step, I will read the dataset, stored in CSV format. To read the dataset, I will use the pandas read_csv method.\n",
        "\n",
        "Note: The entire the dataset is already preprocessed and cleaned. Please check the preprocessing code."
      ]
    },
    {
      "cell_type": "code",
      "metadata": {
        "id": "xjuGyea0FKQX",
        "colab_type": "code",
        "colab": {}
      },
      "source": [
        "age_data = pd.read_csv('./age.csv')\n",
        "\n",
        "age_data = age_data[age_data['age'] >= 20]\n",
        "age_data = age_data[age_data['age'] <= 45]\n",
        "\n",
        "# Fir testing im just using 10% of the data\n",
        "# gender_data = gender_data.sample(frac=0.1)"
      ],
      "execution_count": 0,
      "outputs": []
    },
    {
      "cell_type": "markdown",
      "metadata": {
        "id": "hzwUXA0vJ9vn",
        "colab_type": "text"
      },
      "source": [
        "## Analysing the Dataset\n",
        "\n",
        "In this step, I will perform some basic analysis on the data"
      ]
    },
    {
      "cell_type": "code",
      "metadata": {
        "id": "-ukJmOpvI6Gf",
        "colab_type": "code",
        "outputId": "1b90b088-02a4-4e52-b7e0-42279b76e0ca",
        "colab": {
          "base_uri": "https://localhost:8080/",
          "height": 191
        }
      },
      "source": [
        "# Priting the first 10 rows of the dataset\n",
        "age_data.head()"
      ],
      "execution_count": 7,
      "outputs": [
        {
          "output_type": "execute_result",
          "data": {
            "text/html": [
              "<div>\n",
              "<style scoped>\n",
              "    .dataframe tbody tr th:only-of-type {\n",
              "        vertical-align: middle;\n",
              "    }\n",
              "\n",
              "    .dataframe tbody tr th {\n",
              "        vertical-align: top;\n",
              "    }\n",
              "\n",
              "    .dataframe thead th {\n",
              "        text-align: right;\n",
              "    }\n",
              "</style>\n",
              "<table border=\"1\" class=\"dataframe\">\n",
              "  <thead>\n",
              "    <tr style=\"text-align: right;\">\n",
              "      <th></th>\n",
              "      <th>age</th>\n",
              "      <th>path</th>\n",
              "    </tr>\n",
              "  </thead>\n",
              "  <tbody>\n",
              "    <tr>\n",
              "      <th>1</th>\n",
              "      <td>40</td>\n",
              "      <td>87590</td>\n",
              "    </tr>\n",
              "    <tr>\n",
              "      <th>3</th>\n",
              "      <td>24</td>\n",
              "      <td>142937</td>\n",
              "    </tr>\n",
              "    <tr>\n",
              "      <th>4</th>\n",
              "      <td>24</td>\n",
              "      <td>174618</td>\n",
              "    </tr>\n",
              "    <tr>\n",
              "      <th>5</th>\n",
              "      <td>37</td>\n",
              "      <td>140254</td>\n",
              "    </tr>\n",
              "    <tr>\n",
              "      <th>6</th>\n",
              "      <td>41</td>\n",
              "      <td>11153</td>\n",
              "    </tr>\n",
              "  </tbody>\n",
              "</table>\n",
              "</div>"
            ],
            "text/plain": [
              "   age    path\n",
              "1   40   87590\n",
              "3   24  142937\n",
              "4   24  174618\n",
              "5   37  140254\n",
              "6   41   11153"
            ]
          },
          "metadata": {
            "tags": []
          },
          "execution_count": 7
        }
      ]
    },
    {
      "cell_type": "code",
      "metadata": {
        "id": "oA_TpuzVJAF2",
        "colab_type": "code",
        "outputId": "7373ef70-8558-4a7c-88be-8f9c18f4ecd4",
        "colab": {
          "base_uri": "https://localhost:8080/",
          "height": 191
        }
      },
      "source": [
        "# Printing the last 10 rows of the dataset\n",
        "age_data.tail()"
      ],
      "execution_count": 8,
      "outputs": [
        {
          "output_type": "execute_result",
          "data": {
            "text/html": [
              "<div>\n",
              "<style scoped>\n",
              "    .dataframe tbody tr th:only-of-type {\n",
              "        vertical-align: middle;\n",
              "    }\n",
              "\n",
              "    .dataframe tbody tr th {\n",
              "        vertical-align: top;\n",
              "    }\n",
              "\n",
              "    .dataframe thead th {\n",
              "        text-align: right;\n",
              "    }\n",
              "</style>\n",
              "<table border=\"1\" class=\"dataframe\">\n",
              "  <thead>\n",
              "    <tr style=\"text-align: right;\">\n",
              "      <th></th>\n",
              "      <th>age</th>\n",
              "      <th>path</th>\n",
              "    </tr>\n",
              "  </thead>\n",
              "  <tbody>\n",
              "    <tr>\n",
              "      <th>224814</th>\n",
              "      <td>20</td>\n",
              "      <td>44490</td>\n",
              "    </tr>\n",
              "    <tr>\n",
              "      <th>224816</th>\n",
              "      <td>26</td>\n",
              "      <td>14299</td>\n",
              "    </tr>\n",
              "    <tr>\n",
              "      <th>224817</th>\n",
              "      <td>27</td>\n",
              "      <td>115428</td>\n",
              "    </tr>\n",
              "    <tr>\n",
              "      <th>224818</th>\n",
              "      <td>33</td>\n",
              "      <td>110861</td>\n",
              "    </tr>\n",
              "    <tr>\n",
              "      <th>224820</th>\n",
              "      <td>39</td>\n",
              "      <td>128117</td>\n",
              "    </tr>\n",
              "  </tbody>\n",
              "</table>\n",
              "</div>"
            ],
            "text/plain": [
              "        age    path\n",
              "224814   20   44490\n",
              "224816   26   14299\n",
              "224817   27  115428\n",
              "224818   33  110861\n",
              "224820   39  128117"
            ]
          },
          "metadata": {
            "tags": []
          },
          "execution_count": 8
        }
      ]
    },
    {
      "cell_type": "code",
      "metadata": {
        "id": "L5BZ-ap1JFNi",
        "colab_type": "code",
        "outputId": "ac51eaaa-42fd-4a52-fbbf-2d7a04a019c4",
        "colab": {
          "base_uri": "https://localhost:8080/",
          "height": 33
        }
      },
      "source": [
        "# Listing the column names\n",
        "print(age_data.columns)"
      ],
      "execution_count": 9,
      "outputs": [
        {
          "output_type": "stream",
          "text": [
            "Index(['age', 'path'], dtype='object')\n"
          ],
          "name": "stdout"
        }
      ]
    },
    {
      "cell_type": "markdown",
      "metadata": {
        "id": "G_nMitPQJZzv",
        "colab_type": "text"
      },
      "source": [
        "The column gender contains the gender label as Male and Female. And the column path contains the unique id of the images."
      ]
    },
    {
      "cell_type": "code",
      "metadata": {
        "id": "t6ypSuGDJMsz",
        "colab_type": "code",
        "outputId": "ca5d1e83-d8ee-4acd-d23c-def72b54a7d7",
        "colab": {
          "base_uri": "https://localhost:8080/",
          "height": 33
        }
      },
      "source": [
        "# Number of records present on the data\n",
        "age_data.shape"
      ],
      "execution_count": 10,
      "outputs": [
        {
          "output_type": "execute_result",
          "data": {
            "text/plain": [
              "(159502, 2)"
            ]
          },
          "metadata": {
            "tags": []
          },
          "execution_count": 10
        }
      ]
    },
    {
      "cell_type": "markdown",
      "metadata": {
        "id": "19QqVpb1KIxr",
        "colab_type": "text"
      },
      "source": [
        "## Preprocessing the Dataset\n",
        "\n",
        "Here I will perform some basic analysis of the dataset"
      ]
    },
    {
      "cell_type": "code",
      "metadata": {
        "id": "jYhGGdpSJWeS",
        "colab_type": "code",
        "colab": {}
      },
      "source": [
        "# The path columns contains int values. I need to change it to string\n",
        "age_data = age_data.astype({'age' : str, 'path' : str})\n",
        "\n",
        "# Add the .jpg image extension after the id of the image\n",
        "age_data['path'] = age_data['path'] + '.jpg'"
      ],
      "execution_count": 0,
      "outputs": []
    },
    {
      "cell_type": "code",
      "metadata": {
        "id": "_g0lo2RjKmR1",
        "colab_type": "code",
        "outputId": "5db1723c-e519-4835-e95b-366d1952077e",
        "colab": {
          "base_uri": "https://localhost:8080/",
          "height": 191
        }
      },
      "source": [
        "# Check the data again\n",
        "age_data.head()"
      ],
      "execution_count": 12,
      "outputs": [
        {
          "output_type": "execute_result",
          "data": {
            "text/html": [
              "<div>\n",
              "<style scoped>\n",
              "    .dataframe tbody tr th:only-of-type {\n",
              "        vertical-align: middle;\n",
              "    }\n",
              "\n",
              "    .dataframe tbody tr th {\n",
              "        vertical-align: top;\n",
              "    }\n",
              "\n",
              "    .dataframe thead th {\n",
              "        text-align: right;\n",
              "    }\n",
              "</style>\n",
              "<table border=\"1\" class=\"dataframe\">\n",
              "  <thead>\n",
              "    <tr style=\"text-align: right;\">\n",
              "      <th></th>\n",
              "      <th>age</th>\n",
              "      <th>path</th>\n",
              "    </tr>\n",
              "  </thead>\n",
              "  <tbody>\n",
              "    <tr>\n",
              "      <th>1</th>\n",
              "      <td>40</td>\n",
              "      <td>87590.jpg</td>\n",
              "    </tr>\n",
              "    <tr>\n",
              "      <th>3</th>\n",
              "      <td>24</td>\n",
              "      <td>142937.jpg</td>\n",
              "    </tr>\n",
              "    <tr>\n",
              "      <th>4</th>\n",
              "      <td>24</td>\n",
              "      <td>174618.jpg</td>\n",
              "    </tr>\n",
              "    <tr>\n",
              "      <th>5</th>\n",
              "      <td>37</td>\n",
              "      <td>140254.jpg</td>\n",
              "    </tr>\n",
              "    <tr>\n",
              "      <th>6</th>\n",
              "      <td>41</td>\n",
              "      <td>11153.jpg</td>\n",
              "    </tr>\n",
              "  </tbody>\n",
              "</table>\n",
              "</div>"
            ],
            "text/plain": [
              "  age        path\n",
              "1  40   87590.jpg\n",
              "3  24  142937.jpg\n",
              "4  24  174618.jpg\n",
              "5  37  140254.jpg\n",
              "6  41   11153.jpg"
            ]
          },
          "metadata": {
            "tags": []
          },
          "execution_count": 12
        }
      ]
    },
    {
      "cell_type": "markdown",
      "metadata": {
        "id": "O7GEL9B9OcR_",
        "colab_type": "text"
      },
      "source": [
        "## Checking the class balance \n",
        "\n",
        "In this step, I need to check the class balance of the dataset. If there is more samples for one class, then our model can be biased towards that class. To solve this problem, we need to use some type of sampling. "
      ]
    },
    {
      "cell_type": "code",
      "metadata": {
        "id": "Ac-P5rE-Ozgb",
        "colab_type": "code",
        "outputId": "95ae5778-e12d-4289-ea4b-abe6012828aa",
        "colab": {
          "base_uri": "https://localhost:8080/",
          "height": 270
        }
      },
      "source": [
        "ages = age_data['age'].astype({'age' : int})\n",
        "\n",
        "plt.hist(ages, list(range(20, 47)))\n",
        "plt.show()"
      ],
      "execution_count": 32,
      "outputs": [
        {
          "output_type": "display_data",
          "data": {
            "image/png": "[encoded data removed]",
            "text/plain": [
              "<Figure size 432x288 with 1 Axes>"
            ]
          },
          "metadata": {
            "tags": []
          }
        }
      ]
    },
    {
      "cell_type": "markdown",
      "metadata": {
        "id": "eVBoX_pQOcNo",
        "colab_type": "text"
      },
      "source": [
        "Here there is almost equal number of samples for each class. So we dont need to do any sampling."
      ]
    },
    {
      "cell_type": "markdown",
      "metadata": {
        "id": "tOuwfDE-KxSi",
        "colab_type": "text"
      },
      "source": [
        "## Spliting the dataset\n",
        "\n",
        "Here I will split the dataset into two parts, one for training and one for testing"
      ]
    },
    {
      "cell_type": "code",
      "metadata": {
        "id": "Q9MFuebvKqWD",
        "colab_type": "code",
        "colab": {}
      },
      "source": [
        "train, test = train_test_split(age_data, test_size=0.2, random_state=1969)"
      ],
      "execution_count": 0,
      "outputs": []
    },
    {
      "cell_type": "code",
      "metadata": {
        "id": "HWlCcCeKLqMC",
        "colab_type": "code",
        "outputId": "88396a7f-a5b3-472a-f038-b6f3f939c0ca",
        "colab": {
          "base_uri": "https://localhost:8080/",
          "height": 50
        }
      },
      "source": [
        "# Checking the data again\n",
        "print(train.shape)\n",
        "print(test.shape)"
      ],
      "execution_count": 16,
      "outputs": [
        {
          "output_type": "stream",
          "text": [
            "(127601, 2)\n",
            "(31901, 2)\n"
          ],
          "name": "stdout"
        }
      ]
    },
    {
      "cell_type": "code",
      "metadata": {
        "id": "o4BozPnbLxnH",
        "colab_type": "code",
        "outputId": "786a0feb-7c72-4060-f341-c832a3924eba",
        "colab": {
          "base_uri": "https://localhost:8080/",
          "height": 191
        }
      },
      "source": [
        "test.head()"
      ],
      "execution_count": 17,
      "outputs": [
        {
          "output_type": "execute_result",
          "data": {
            "text/html": [
              "<div>\n",
              "<style scoped>\n",
              "    .dataframe tbody tr th:only-of-type {\n",
              "        vertical-align: middle;\n",
              "    }\n",
              "\n",
              "    .dataframe tbody tr th {\n",
              "        vertical-align: top;\n",
              "    }\n",
              "\n",
              "    .dataframe thead th {\n",
              "        text-align: right;\n",
              "    }\n",
              "</style>\n",
              "<table border=\"1\" class=\"dataframe\">\n",
              "  <thead>\n",
              "    <tr style=\"text-align: right;\">\n",
              "      <th></th>\n",
              "      <th>age</th>\n",
              "      <th>path</th>\n",
              "    </tr>\n",
              "  </thead>\n",
              "  <tbody>\n",
              "    <tr>\n",
              "      <th>152246</th>\n",
              "      <td>20</td>\n",
              "      <td>69006.jpg</td>\n",
              "    </tr>\n",
              "    <tr>\n",
              "      <th>131800</th>\n",
              "      <td>35</td>\n",
              "      <td>166127.jpg</td>\n",
              "    </tr>\n",
              "    <tr>\n",
              "      <th>63193</th>\n",
              "      <td>24</td>\n",
              "      <td>7370.jpg</td>\n",
              "    </tr>\n",
              "    <tr>\n",
              "      <th>146783</th>\n",
              "      <td>41</td>\n",
              "      <td>51567.jpg</td>\n",
              "    </tr>\n",
              "    <tr>\n",
              "      <th>18682</th>\n",
              "      <td>39</td>\n",
              "      <td>163032.jpg</td>\n",
              "    </tr>\n",
              "  </tbody>\n",
              "</table>\n",
              "</div>"
            ],
            "text/plain": [
              "       age        path\n",
              "152246  20   69006.jpg\n",
              "131800  35  166127.jpg\n",
              "63193   24    7370.jpg\n",
              "146783  41   51567.jpg\n",
              "18682   39  163032.jpg"
            ]
          },
          "metadata": {
            "tags": []
          },
          "execution_count": 17
        }
      ]
    },
    {
      "cell_type": "code",
      "metadata": {
        "id": "0QSoMnafLzaa",
        "colab_type": "code",
        "outputId": "68c1ad7f-2bb9-4da5-e071-6af3813137d6",
        "colab": {
          "base_uri": "https://localhost:8080/",
          "height": 191
        }
      },
      "source": [
        "train.tail()"
      ],
      "execution_count": 18,
      "outputs": [
        {
          "output_type": "execute_result",
          "data": {
            "text/html": [
              "<div>\n",
              "<style scoped>\n",
              "    .dataframe tbody tr th:only-of-type {\n",
              "        vertical-align: middle;\n",
              "    }\n",
              "\n",
              "    .dataframe tbody tr th {\n",
              "        vertical-align: top;\n",
              "    }\n",
              "\n",
              "    .dataframe thead th {\n",
              "        text-align: right;\n",
              "    }\n",
              "</style>\n",
              "<table border=\"1\" class=\"dataframe\">\n",
              "  <thead>\n",
              "    <tr style=\"text-align: right;\">\n",
              "      <th></th>\n",
              "      <th>age</th>\n",
              "      <th>path</th>\n",
              "    </tr>\n",
              "  </thead>\n",
              "  <tbody>\n",
              "    <tr>\n",
              "      <th>200885</th>\n",
              "      <td>43</td>\n",
              "      <td>146321.jpg</td>\n",
              "    </tr>\n",
              "    <tr>\n",
              "      <th>119868</th>\n",
              "      <td>34</td>\n",
              "      <td>192140.jpg</td>\n",
              "    </tr>\n",
              "    <tr>\n",
              "      <th>138364</th>\n",
              "      <td>45</td>\n",
              "      <td>149544.jpg</td>\n",
              "    </tr>\n",
              "    <tr>\n",
              "      <th>141049</th>\n",
              "      <td>45</td>\n",
              "      <td>164502.jpg</td>\n",
              "    </tr>\n",
              "    <tr>\n",
              "      <th>111242</th>\n",
              "      <td>33</td>\n",
              "      <td>184609.jpg</td>\n",
              "    </tr>\n",
              "  </tbody>\n",
              "</table>\n",
              "</div>"
            ],
            "text/plain": [
              "       age        path\n",
              "200885  43  146321.jpg\n",
              "119868  34  192140.jpg\n",
              "138364  45  149544.jpg\n",
              "141049  45  164502.jpg\n",
              "111242  33  184609.jpg"
            ]
          },
          "metadata": {
            "tags": []
          },
          "execution_count": 18
        }
      ]
    },
    {
      "cell_type": "markdown",
      "metadata": {
        "id": "xjVWKiAuMwdy",
        "colab_type": "text"
      },
      "source": [
        "## Generator Functions\n",
        "\n",
        "The dataset in big, So we need to read the data in small batch. In Keras, ImageDataGenerator class provides a generator methods that we can use here."
      ]
    },
    {
      "cell_type": "code",
      "metadata": {
        "id": "JcOp8XkLMsSJ",
        "colab_type": "code",
        "colab": {}
      },
      "source": [
        "# A generator object with some basic settings\n",
        "generator = ImageDataGenerator(featurewise_center=False,\n",
        "                               samplewise_center=False,  \n",
        "                               featurewise_std_normalization=False,\n",
        "                               samplewise_std_normalization=False,\n",
        "                               zca_whitening=False,\n",
        "                               rotation_range=10,  \n",
        "                               zoom_range = 0.1, \n",
        "                               width_shift_range=0.1,  \n",
        "                               height_shift_range=0.1,\n",
        "                               horizontal_flip=True,  \n",
        "                               vertical_flip=False)  "
      ],
      "execution_count": 0,
      "outputs": []
    },
    {
      "cell_type": "code",
      "metadata": {
        "id": "NIUK4ALtNVZt",
        "colab_type": "code",
        "outputId": "21264034-adbd-4cd3-920d-5fa4cd9949de",
        "colab": {
          "base_uri": "https://localhost:8080/",
          "height": 33
        }
      },
      "source": [
        "# Now I will read the dataset using the generator \n",
        "train_gen = generator.flow_from_dataframe(train, \n",
        "                                          directory='images/',\n",
        "                                          x_col='path',\n",
        "                                          y_col='age',\n",
        "                                          target_size=(224,224),\n",
        "                                          batch_size=64)"
      ],
      "execution_count": 20,
      "outputs": [
        {
          "output_type": "stream",
          "text": [
            "Found 127601 validated image filenames belonging to 26 classes.\n"
          ],
          "name": "stdout"
        }
      ]
    },
    {
      "cell_type": "code",
      "metadata": {
        "id": "U2JQEFYJNuvq",
        "colab_type": "code",
        "outputId": "9f80da74-17c1-4031-9b3e-bdcb99b4cced",
        "colab": {
          "base_uri": "https://localhost:8080/",
          "height": 33
        }
      },
      "source": [
        "test_gen = generator.flow_from_dataframe(test, \n",
        "                                         directory='images/',\n",
        "                                         x_col='path',\n",
        "                                         y_col='age',\n",
        "                                         target_size=(224,224),\n",
        "                                         batch_size=64)"
      ],
      "execution_count": 21,
      "outputs": [
        {
          "output_type": "stream",
          "text": [
            "Found 31901 validated image filenames belonging to 26 classes.\n"
          ],
          "name": "stdout"
        }
      ]
    },
    {
      "cell_type": "markdown",
      "metadata": {
        "id": "K2R-v0BjN68K",
        "colab_type": "text"
      },
      "source": [
        "## Model\n",
        "\n",
        "Here I will make the MobileNetV2 model"
      ]
    },
    {
      "cell_type": "code",
      "metadata": {
        "id": "BJVJGSazN2I7",
        "colab_type": "code",
        "colab": {}
      },
      "source": [
        "model = Sequential()\n",
        "\n",
        "# Im initializing the model with imagenet weighs\n",
        "mobile = MobileNetV2(include_top=False,\n",
        "                     weights=\"imagenet\", \n",
        "                     input_shape=(224,224,3),\n",
        "                     pooling=\"max\")\n",
        "\n",
        "model.add(mobile)\n",
        "model.add(Dense(units=26, activation=\"softmax\"))"
      ],
      "execution_count": 0,
      "outputs": []
    },
    {
      "cell_type": "code",
      "metadata": {
        "id": "ehcL1HrsOa0d",
        "colab_type": "code",
        "colab": {}
      },
      "source": [
        "model.compile(loss='categorical_crossentropy', optimizer=optimizers.RMSprop(lr=2e-5), metrics=['accuracy'])"
      ],
      "execution_count": 0,
      "outputs": []
    },
    {
      "cell_type": "code",
      "metadata": {
        "id": "4DkBdWczOfD5",
        "colab_type": "code",
        "outputId": "85e52d51-0923-4e33-c69e-07d84643118c",
        "colab": {
          "base_uri": "https://localhost:8080/",
          "height": 196
        }
      },
      "source": [
        "model.summary()"
      ],
      "execution_count": 27,
      "outputs": [
        {
          "output_type": "stream",
          "text": [
            "_________________________________________________________________\n",
            "Layer (type)                 Output Shape              Param #   \n",
            "=================================================================\n",
            "mobilenetv2_1.00_224 (Model) (None, 1280)              2257984   \n",
            "_________________________________________________________________\n",
            "dense_2 (Dense)              (None, 26)                33306     \n",
            "=================================================================\n",
            "Total params: 2,291,290\n",
            "Trainable params: 2,257,178\n",
            "Non-trainable params: 34,112\n",
            "_________________________________________________________________\n"
          ],
          "name": "stdout"
        }
      ]
    },
    {
      "cell_type": "markdown",
      "metadata": {
        "id": "Nf51buAcOp4F",
        "colab_type": "text"
      },
      "source": [
        "## Training the Model\n",
        "\n",
        "Here I will train the model with the dataset"
      ]
    },
    {
      "cell_type": "code",
      "metadata": {
        "id": "KsX4lFQ3Og1e",
        "colab_type": "code",
        "outputId": "3da949c1-3bfd-4b45-eaff-9cbf637bf6fe",
        "colab": {
          "base_uri": "https://localhost:8080/",
          "height": 183
        }
      },
      "source": [
        "STEP_SIZE_TRAIN=train_gen.n//train_gen.batch_size\n",
        "STEP_SIZE_TEST=test_gen.n//test_gen.batch_size\n",
        "\n",
        "history = model.fit_generator(train_gen,\n",
        "                              steps_per_epoch=STEP_SIZE_TRAIN,\n",
        "                              validation_data=test_gen,\n",
        "                              validation_steps=STEP_SIZE_TEST,\n",
        "                              epochs=3)"
      ],
      "execution_count": 28,
      "outputs": [
        {
          "output_type": "stream",
          "text": [
            "W0803 09:42:32.697258 139726146545536 deprecation.py:323] From /usr/local/lib/python3.6/dist-packages/tensorflow/python/ops/math_grad.py:1250: add_dispatch_support.<locals>.wrapper (from tensorflow.python.ops.array_ops) is deprecated and will be removed in a future version.\n",
            "Instructions for updating:\n",
            "Use tf.where in 2.0, which has the same broadcast rule as np.where\n"
          ],
          "name": "stderr"
        },
        {
          "output_type": "stream",
          "text": [
            "Epoch 1/3\n",
            "1993/1993 [==============================] - 2601s 1s/step - loss: 4.3168 - acc: 0.0458 - val_loss: 3.3767 - val_acc: 0.0513\n",
            "Epoch 2/3\n",
            "1993/1993 [==============================] - 2481s 1s/step - loss: 3.1872 - acc: 0.0596 - val_loss: 3.1603 - val_acc: 0.0643\n",
            "Epoch 3/3\n",
            "1993/1993 [==============================] - 2468s 1s/step - loss: 3.1256 - acc: 0.0673 - val_loss: 3.1123 - val_acc: 0.0663\n"
          ],
          "name": "stdout"
        }
      ]
    },
    {
      "cell_type": "markdown",
      "metadata": {
        "id": "-fYpQ8SdRr_v",
        "colab_type": "text"
      },
      "source": [
        "## Ploting Training Graphs \n",
        "\n",
        "Plotting training graphs to analyse the performence"
      ]
    },
    {
      "cell_type": "code",
      "metadata": {
        "id": "FR223y7tRj63",
        "colab_type": "code",
        "outputId": "828fb743-526f-485f-e9ac-b1501ed5cfb7",
        "colab": {
          "base_uri": "https://localhost:8080/",
          "height": 572
        }
      },
      "source": [
        "plt.plot(history.history['acc'])\n",
        "plt.plot(history.history['val_acc'])\n",
        "plt.title('model accuracy')\n",
        "plt.ylabel('accuracy')\n",
        "plt.xlabel('epoch')\n",
        "plt.legend(['train', 'test'], loc='upper left')\n",
        "plt.show()\n",
        "\n",
        "plt.plot(history.history['loss'])\n",
        "plt.plot(history.history['val_loss'])\n",
        "plt.title('model loss')\n",
        "plt.ylabel('loss')\n",
        "plt.xlabel('epoch')\n",
        "plt.legend(['train', 'test'], loc='upper left')\n",
        "plt.show()"
      ],
      "execution_count": 29,
      "outputs": [
        {
          "output_type": "display_data",
          "data": {
            "image/png": "[encoded data removed]",
            "text/plain": [
              "<Figure size 432x288 with 1 Axes>"
            ]
          },
          "metadata": {
            "tags": []
          }
        },
        {
          "output_type": "display_data",
          "data": {
            "image/png": "[encoded data removed]",
            "text/plain": [
              "<Figure size 432x288 with 1 Axes>"
            ]
          },
          "metadata": {
            "tags": []
          }
        }
      ]
    },
    {
      "cell_type": "code",
      "metadata": {
        "id": "fYC11iU1PbpC",
        "colab_type": "code",
        "colab": {}
      },
      "source": [
        "model.save('age.h5')"
      ],
      "execution_count": 0,
      "outputs": []
    }
  ]
}